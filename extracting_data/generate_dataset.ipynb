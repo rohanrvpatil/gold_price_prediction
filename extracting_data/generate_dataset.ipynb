{
 "cells": [
  {
   "cell_type": "code",
   "execution_count": 3,
   "metadata": {},
   "outputs": [],
   "source": [
    "import requests\n",
    "import json\n",
    "\n",
    "import pandas as pd\n",
    "from datetime import datetime\n",
    "\n",
    "headers = {\n",
    "    'accept': '*/*',\n",
    "    'accept-language': 'en-US,en;q=0.9',\n",
    "    'cache-control': 'no-cache',\n",
    "    'origin': 'https://edition.cnn.com',\n",
    "    'pragma': 'no-cache',\n",
    "    'priority': 'u=1, i',\n",
    "    'referer': 'https://edition.cnn.com/',\n",
    "    'sec-ch-ua': '\"Chromium\";v=\"128\", \"Not;A=Brand\";v=\"24\", \"Google Chrome\";v=\"128\"',\n",
    "    'sec-ch-ua-mobile': '?0',\n",
    "    'sec-ch-ua-platform': '\"Windows\"',\n",
    "    'sec-fetch-dest': 'empty',\n",
    "    'sec-fetch-mode': 'cors',\n",
    "    'sec-fetch-site': 'cross-site',\n",
    "    'user-agent': 'Mozilla/5.0 (Windows NT 10.0; Win64; x64) AppleWebKit/537.36 (KHTML, like Gecko) Chrome/128.0.0.0 Safari/537.36',\n",
    "}\n",
    "\n",
    "response = requests.get('https://production.dataviz.cnn.io/index/fearandgreed/graphdata/2021-01-01', headers=headers)\n",
    "\n",
    "with open('../datasets/fear_greed.json', 'w') as f:\n",
    "    json.dump(response.json(), f, indent=4)\n"
   ]
  },
  {
   "cell_type": "code",
   "execution_count": 4,
   "metadata": {},
   "outputs": [],
   "source": [
    "with open('../datasets/fear_greed.json', 'r') as file:\n",
    "    data = json.load(file)\n",
    "\n",
    "fear_and_greed_data = data.get('fear_and_greed_historical', {}).get('data', {})\n",
    "\n",
    "for entry in fear_and_greed_data:\n",
    "    timestamp = entry['x'] / 1000  # Convert milliseconds to seconds\n",
    "    entry['x'] = datetime.utcfromtimestamp(timestamp).strftime('%d-%m-%Y')\n",
    "\n",
    "\n",
    "extracted_data = [{'Date': entry['x'], 'rating': entry['rating']} for entry in fear_and_greed_data]\n",
    "\n",
    "df = pd.DataFrame(extracted_data)\n",
    "\n",
    "df = df[:-1]\n",
    "df.to_csv('../datasets/historical_prices.csv', index=False)"
   ]
  },
  {
   "cell_type": "code",
   "execution_count": 5,
   "metadata": {},
   "outputs": [
    {
     "name": "stderr",
     "output_type": "stream",
     "text": [
      "[*********************100%***********************]  1 of 1 completed\n",
      "[*********************100%***********************]  1 of 1 completed\n",
      "[*********************100%***********************]  1 of 1 completed\n",
      "[*********************100%***********************]  1 of 1 completed\n"
     ]
    }
   ],
   "source": [
    "import yfinance as yf\n",
    "import pandas as pd\n",
    "\n",
    "historical_prices = pd.read_csv(\"../datasets/historical_prices.csv\")\n",
    "historical_prices['Date'] = pd.to_datetime(historical_prices['Date'], format='%d-%m-%Y')\n",
    "historical_prices.set_index('Date', inplace=True)\n",
    "\n",
    "tickers = {\n",
    "    \"GC=F\": \"Gold\",\n",
    "    \"CL=F\": \"Crude Oil\",\n",
    "    \"PL=F\": \"Platinum\",\n",
    "    \"DX-Y.NYB\": \"USD Index\"\n",
    "}\n",
    "\n",
    "for ticker, column_name in tickers.items():\n",
    "    data = yf.download(ticker, start=\"2021-01-01\", end=\"2024-09-20\")\n",
    "    open_prices = data['Open']\n",
    "    df = pd.DataFrame(open_prices)\n",
    "    df.columns = [column_name]\n",
    "    \n",
    "    historical_prices = historical_prices.join(df, how='outer')\n",
    "\n",
    "# Save the combined data to a CSV file\n",
    "historical_prices.to_csv(\"../datasets/historical_prices.csv\")"
   ]
  },
  {
   "cell_type": "code",
   "execution_count": null,
   "metadata": {},
   "outputs": [],
   "source": []
  }
 ],
 "metadata": {
  "kernelspec": {
   "display_name": "base",
   "language": "python",
   "name": "python3"
  },
  "language_info": {
   "codemirror_mode": {
    "name": "ipython",
    "version": 3
   },
   "file_extension": ".py",
   "mimetype": "text/x-python",
   "name": "python",
   "nbconvert_exporter": "python",
   "pygments_lexer": "ipython3",
   "version": "3.11.9"
  }
 },
 "nbformat": 4,
 "nbformat_minor": 2
}
